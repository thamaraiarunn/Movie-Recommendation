{
  "nbformat": 4,
  "nbformat_minor": 0,
  "metadata": {
    "colab": {
      "provenance": []
    },
    "kernelspec": {
      "name": "python3",
      "display_name": "Python 3"
    },
    "language_info": {
      "name": "python"
    }
  },
  "cells": [
    {
      "cell_type": "code",
      "execution_count": 1,
      "metadata": {
        "colab": {
          "base_uri": "https://localhost:8080/"
        },
        "id": "cGTsg2M5Ci28",
        "outputId": "a554a979-2683-4bdf-9156-13ebc0cd29da"
      },
      "outputs": [
        {
          "output_type": "stream",
          "name": "stdout",
          "text": [
            "Movies recommended for 'The Matrix':\n",
            "1. Inception\n",
            "2. Star Wars\n",
            "3. Interstellar\n",
            "4. The Godfather\n",
            "5. The Dark Knight\n"
          ]
        }
      ],
      "source": [
        "import pandas as pd\n",
        "from sklearn.metrics.pairwise import cosine_similarity\n",
        "from sklearn.feature_extraction.text import CountVectorizer\n",
        "\n",
        "# Sample dataset with 20 movies (you can load your own data as well)\n",
        "data = {\n",
        "    \"MovieID\": range(1, 21),\n",
        "    \"Title\": [\n",
        "        \"The Matrix\", \"The Godfather\", \"The Dark Knight\", \"Inception\", \"Pulp Fiction\",\n",
        "        \"Fight Club\", \"Forrest Gump\", \"The Shawshank Redemption\", \"The Lord of the Rings\",\n",
        "        \"Star Wars\", \"Avengers: Endgame\", \"Harry Potter\", \"The Social Network\", \"Joker\",\n",
        "        \"Interstellar\", \"The Lion King\", \"Gladiator\", \"Titanic\", \"Goodfellas\", \"Schindler's List\"\n",
        "    ],\n",
        "    \"Genre\": [\n",
        "        \"Sci-Fi\", \"Crime\", \"Action\", \"Sci-Fi\", \"Crime\",\n",
        "        \"Drama\", \"Drama\", \"Drama\", \"Fantasy\", \"Sci-Fi\",\n",
        "        \"Action\", \"Fantasy\", \"Drama\", \"Crime\", \"Sci-Fi\",\n",
        "        \"Animation\", \"Action\", \"Romance\", \"Crime\", \"Drama\"\n",
        "    ]\n",
        "}\n",
        "\n",
        "# Convert data into a DataFrame\n",
        "movies_df = pd.DataFrame(data)\n",
        "\n",
        "# Create a CountVectorizer for the 'Genre' column\n",
        "count_vectorizer = CountVectorizer()\n",
        "genre_matrix = count_vectorizer.fit_transform(movies_df['Genre'])\n",
        "\n",
        "# Compute cosine similarity based on the genre matrix\n",
        "cosine_sim = cosine_similarity(genre_matrix, genre_matrix)\n",
        "\n",
        "# Function to get movie recommendations\n",
        "def recommend_movies(movie_title, num_recommendations=5):\n",
        "    if movie_title not in movies_df['Title'].values:\n",
        "        return \"Movie not found in the database.\"\n",
        "\n",
        "    # Get index of the given movie\n",
        "    movie_index = movies_df[movies_df['Title'] == movie_title].index[0]\n",
        "\n",
        "    # Get similarity scores for all movies with the given movie\n",
        "    similarity_scores = list(enumerate(cosine_sim[movie_index]))\n",
        "\n",
        "    # Sort movies based on similarity scores\n",
        "    sorted_movies = sorted(similarity_scores, key=lambda x: x[1], reverse=True)\n",
        "\n",
        "    # Fetch top recommendations excluding the input movie\n",
        "    recommended_movies = [movies_df.iloc[i[0]]['Title'] for i in sorted_movies[1:num_recommendations + 1]]\n",
        "    return recommended_movies\n",
        "\n",
        "# Example usage\n",
        "user_input = \"The Matrix\"\n",
        "print(f\"Movies recommended for '{user_input}':\")\n",
        "recommendations = recommend_movies(user_input, num_recommendations=5)\n",
        "for idx, movie in enumerate(recommendations, start=1):\n",
        "    print(f\"{idx}. {movie}\")\n"
      ]
    }
  ]
}